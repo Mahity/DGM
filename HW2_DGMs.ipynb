{
  "cells": [
    {
      "cell_type": "markdown",
      "metadata": {
        "id": "3HD9YyZ9JJ43"
      },
      "source": [
        "# **DIRECTED GRAPHICAL MODELS**\n",
        "*Import necessary Libraries*"
      ]
    },
    {
      "cell_type": "code",
      "execution_count": 98,
      "metadata": {
        "id": "BtgRGjwQIvso"
      },
      "outputs": [],
      "source": [
        "import pandas as pd\n",
        "import numpy as np\n",
        "import networkx as nx\n",
        "import matplotlib.pyplot as plt\n",
        "import itertools\n",
        "import pprint\n",
        "from tabulate import tabulate\n",
        "from sympy import Symbol  "
      ]
    },
    {
      "cell_type": "markdown",
      "metadata": {
        "id": "SwWV-xMfI3-P"
      },
      "source": [
        "*Define variable names and their indices*"
      ]
    },
    {
      "cell_type": "code",
      "execution_count": 99,
      "metadata": {
        "id": "eVyfSiAkIvst"
      },
      "outputs": [],
      "source": [
        "VARIABLES = {\n",
        "    0: \"IsSummer\",\n",
        "    1: \"HasFlu\",\n",
        "    2: \"HasFoodPoisoning\",\n",
        "    3: \"HasHayFever\",\n",
        "    4: \"HasPneumonia\",\n",
        "    5: \"HasRespiratoryProblems\",\n",
        "    6: \"HasGastricProblems\",\n",
        "    7: \"HasRash\",\n",
        "    8: \"Coughs\",\n",
        "    9: \"IsFatigued\",\n",
        "    10: \"Vomits\",\n",
        "    11: \"HasFever\",\n",
        "}\n",
        "\n",
        "# Reverse mapping for index-based access\n",
        "VARIABLE_INDICES = {v: i for i, v in VARIABLES.items()}\n"
      ]
    },
    {
      "cell_type": "markdown",
      "metadata": {
        "id": "J0ujpIoHJdnx"
      },
      "source": [
        "*Load data from file with integer-encoded variable assignments*"
      ]
    },
    {
      "cell_type": "code",
      "execution_count": 100,
      "metadata": {
        "id": "pq8y_HX-Ivsv"
      },
      "outputs": [],
      "source": [
        "def load_data(filename, handle_missing=False):\n",
        "  kwargs = {}\n",
        "  if handle_missing:\n",
        "    kwargs[\"na_values\"] = [\"NA\", \"\"]\n",
        "  data = pd.read_csv(filename, header=None, names=[\"assignment\"], **kwargs)\n",
        "  return data\n",
        "# Load training data\n",
        "dataset = load_data(r'C:\\Users\\hp\\Desktop\\SecondAI\\PGM\\HW2\\medical\\dataset.dat')\n",
        "\n",
        "# Load true joint probability data\n",
        "true_joint_data = pd.read_csv(\"medical/joint.dat\",names=[\"assignment\", \"probability\"], sep=\"\\t\", dtype={\"probability\": float})\n"
      ]
    },
    {
      "cell_type": "markdown",
      "metadata": {
        "id": "SzXuRifRJxHd"
      },
      "source": [
        "*Explore(print) the loaded data*"
      ]
    },
    {
      "cell_type": "code",
      "execution_count": 101,
      "metadata": {
        "id": "6YQtzbm9Ivsx",
        "outputId": "4bec7eff-8eb9-4a4d-bcab-9007f7e33bd8"
      },
      "outputs": [
        {
          "name": "stdout",
          "output_type": "stream",
          "text": [
            "Dataset:\n",
            "   assignment\n",
            "0           1\n",
            "1         136\n",
            "2           8\n",
            "3           0\n",
            "4         129\n",
            "\n",
            "Joint Probability Data:\n",
            "   assignment  probability\n",
            "0           0     0.294259\n",
            "1           1     0.102216\n",
            "2           2     0.003831\n",
            "3           3     0.000255\n",
            "4           4     0.023354\n"
          ]
        }
      ],
      "source": [
        "print(\"Dataset:\")\n",
        "# Print the first few rows of the dataset\n",
        "print(dataset.head())\n",
        "print(\"\\nJoint Probability Data:\")\n",
        " # Print the first few rows of the joint data\n",
        "print(true_joint_data.head())\n"
      ]
    },
    {
      "cell_type": "code",
      "execution_count": 102,
      "metadata": {
        "id": "9TfHrylXIvs0",
        "outputId": "5fbe86b9-3b28-430b-f84d-19fe196c2a67"
      },
      "outputs": [
        {
          "name": "stdout",
          "output_type": "stream",
          "text": [
            "Dataset shape: (4000000, 1)\n",
            "Joint data shape: (4096, 2)\n"
          ]
        }
      ],
      "source": [
        "print(\"Dataset shape:\", dataset.shape)\n",
        "print(\"Joint data shape:\", true_joint_data.shape)"
      ]
    },
    {
      "cell_type": "code",
      "execution_count": 103,
      "metadata": {
        "id": "F1H_CmIPIvs1",
        "outputId": "569a68cd-e7cf-4613-c90e-505158e8be70"
      },
      "outputs": [
        {
          "name": "stdout",
          "output_type": "stream",
          "text": [
            "Dataset data types:\n",
            "assignment    int64\n",
            "dtype: object\n",
            "\n",
            "Joint data data types:\n",
            "assignment       int64\n",
            "probability    float64\n",
            "dtype: object\n"
          ]
        }
      ],
      "source": [
        "print(\"Dataset data types:\")\n",
        "print(dataset.dtypes)\n",
        "print(\"\\nJoint data data types:\")\n",
        "print(true_joint_data.dtypes)"
      ]
    },
    {
      "cell_type": "markdown",
      "metadata": {
        "id": "jlCRHyCkJ-g7"
      },
      "source": [
        "# 1. Represent the Directed Graphical Model"
      ]
    },
    {
      "cell_type": "code",
      "execution_count": 104,
      "metadata": {
        "id": "emHfgp65Ivs2"
      },
      "outputs": [],
      "source": [
        "class DGM:\n",
        "  def __init__(self):\n",
        "    # Define parent-child relationships (variable index: list of parent indices)\n",
        "    self.parent_map = {\n",
        "        VARIABLE_INDICES[\"IsSummer\"]: [],\n",
        "        VARIABLE_INDICES[\"HasFoodPoisoning\"]: [],\n",
        "        VARIABLE_INDICES[\"HasHayFever\"]: [VARIABLE_INDICES[\"IsSummer\"]],\n",
        "        VARIABLE_INDICES[\"HasFlu\"]: [VARIABLE_INDICES[\"Coughs\"],VARIABLE_INDICES[\"IsFatigued\"]],\n",
        "        VARIABLE_INDICES[\"HasPneumonia\"]: [VARIABLE_INDICES[\"HasRespiratoryProblems\"]],\n",
        "        VARIABLE_INDICES[\"HasRespiratoryProblems\"]: [VARIABLE_INDICES[\"HasFlu\"],VARIABLE_INDICES[\"IsFatigued\"], VARIABLE_INDICES[\"HasPneumonia\"], VARIABLE_INDICES[\"IsSummer\"]],\n",
        "        VARIABLE_INDICES[\"HasGastricProblems\"]: [VARIABLE_INDICES[\"HasFoodPoisoning\"]],\n",
        "        VARIABLE_INDICES[\"HasRash\"]: [VARIABLE_INDICES[\"HasFoodPoisoning\"], VARIABLE_INDICES[\"HasHayFever\"]],\n",
        "        VARIABLE_INDICES[\"Coughs\"]: [VARIABLE_INDICES[\"HasPneumonia\"],VARIABLE_INDICES[\"HasFlu\"], VARIABLE_INDICES[\"HasRespiratoryProblems\"]],\n",
        "        VARIABLE_INDICES[\"IsFatigued\"]: [VARIABLE_INDICES[\"HasFlu\"], VARIABLE_INDICES[\"HasPneumonia\"], VARIABLE_INDICES[\"Coughs\"]],\n",
        "        VARIABLE_INDICES[\"Vomits\"]: [VARIABLE_INDICES[\"Coughs\"], VARIABLE_INDICES[\"HasFever\"],VARIABLE_INDICES[\"HasFoodPoisoning\"], VARIABLE_INDICES[\"HasGastricProblems\"]],\n",
        "        VARIABLE_INDICES[\"HasFever\"]: [VARIABLE_INDICES[\"IsSummer\"],VARIABLE_INDICES[\"HasFlu\"], VARIABLE_INDICES[\"HasPneumonia\"],VARIABLE_INDICES[\"HasFoodPoisoning\"],VARIABLE_INDICES[\"Vomits\"]],\n",
        "    }\n",
        "    # Initialize empty CPTs (Conditional Probability Tables)\n",
        "    self.cpts = {var: {} for var in self.parent_map.keys()}\n",
        "\n",
        "  def get_parents(self, variable):\n",
        "    \"\"\"Returns the list of parent indices for a given variable.\"\"\"\n",
        "    return self.parent_map[variable]\n",
        "    \n",
        "  def display_model(self):\n",
        "    for child, parents in self.parent_map.items():\n",
        "      if parents:\n",
        "        parent_symbols = [Symbol(VARIABLES[p]) for p in parents]  # Create symbolic variables for parents (optional)\n",
        "        equation_left = f\"p({VARIABLES[child]} | \" + ', '.join([str(s) for s in parent_symbols]) + \")\"\n",
        "      else:\n",
        "        equation_left = f\"p({VARIABLES[child]})\"\n",
        "      print(f\"{equation_left} = {self.cpts[child]}\")\n",
        "\n",
        "  def get_probability(self, assignment):\n",
        "    if len(assignment) != len(self.parent_map):\n",
        "      raise ValueError(\"Invalid assignment length. Expected {} values.\".format(len(self.parent_map)))\n",
        "\n",
        "    probability = 1.0  # Initialize with 1 for multiplication\n",
        "\n",
        "    for var, value in assignment.items():\n",
        "      # Check if value is boolean\n",
        "      if not isinstance(value, bool):\n",
        "        raise ValueError(\"Assignment values must be True or False.\")\n",
        "\n",
        "      parents = self.get_parents(var)\n",
        "      parent_values = tuple(assignment[p] for p in parents)\n",
        "      # Look up conditional probability from CPT\n",
        "      try:\n",
        "        cpt_entry = self.cpts[var][parent_values]\n",
        "        probability *= cpt_entry[value]  # Probability of current variable given parents\n",
        "      except KeyError:\n",
        "        # Handle missing CPT entries (e.g., with a default probability or raising an error)\n",
        "        raise KeyError(\"Missing CPT entry for variable {} with parent values {}\".format(var, parent_values))\n",
        "\n",
        "    return probability\n"
      ]
    },
    {
      "cell_type": "markdown",
      "metadata": {
        "id": "PXB_poZqKfT-"
      },
      "source": [
        "*Function to Visualize the graph*"
      ]
    },
    {
      "cell_type": "code",
      "execution_count": 105,
      "metadata": {
        "id": "xxEhkfAoKbcI"
      },
      "outputs": [],
      "source": [
        "def visualize_graph(parent_map, variable_names):\n",
        "    G = nx.DiGraph()\n",
        "    for child, parents in parent_map.items():\n",
        "        for parent in parents:\n",
        "            G.add_edge(variable_names[parent], variable_names[child])\n",
        "\n",
        "    # Define colors for nodes\n",
        "    colors = ['red', 'green', 'blue', 'yellow', 'orange', 'purple', 'pink', 'gray', 'cyan', 'magenta', 'brown', 'lime']\n",
        "    node_colors = [colors[i % len(colors)] for i in range(len(G.nodes()))]\n",
        "\n",
        "    pos = nx.kamada_kawai_layout(G)  # Use kamada_kawai_layout instead of spring_layout\n",
        "    nx.draw(G, pos, node_color=node_colors)\n",
        "\n",
        "    # Create a legend\n",
        "    plt.legend(handles=[plt.Line2D([0], [0], marker='o', color='w', label=node,\n",
        "                                   markerfacecolor=color, markersize=10) for node, color in zip(G.nodes(), node_colors)],\n",
        "               title=\"Variables\", bbox_to_anchor=(1, 1), loc='upper left')\n",
        "\n",
        "    plt.show()"
      ]
    },
    {
      "cell_type": "markdown",
      "metadata": {
        "id": "RvCaufKqKwR4"
      },
      "source": [
        "*Display the parent-child relationships and the conditional probabilities *"
      ]
    },
    {
      "cell_type": "code",
      "execution_count": 106,
      "metadata": {
        "id": "gY_huFxCIvs4",
        "outputId": "44520573-df12-4ed5-b0ab-194a1f236aad"
      },
      "outputs": [
        {
          "name": "stdout",
          "output_type": "stream",
          "text": [
            "p(IsSummer) = {}\n",
            "p(HasFoodPoisoning) = {}\n",
            "p(HasHayFever | IsSummer) = {}\n",
            "p(HasFlu | Coughs, IsFatigued) = {}\n",
            "p(HasPneumonia | HasRespiratoryProblems) = {}\n",
            "p(HasRespiratoryProblems | HasFlu, IsFatigued, HasPneumonia, IsSummer) = {}\n",
            "p(HasGastricProblems | HasFoodPoisoning) = {}\n",
            "p(HasRash | HasFoodPoisoning, HasHayFever) = {}\n",
            "p(Coughs | HasPneumonia, HasFlu, HasRespiratoryProblems) = {}\n",
            "p(IsFatigued | HasFlu, HasPneumonia, Coughs) = {}\n",
            "p(Vomits | Coughs, HasFever, HasFoodPoisoning, HasGastricProblems) = {}\n",
            "p(HasFever | IsSummer, HasFlu, HasPneumonia, HasFoodPoisoning, Vomits) = {}\n"
          ]
        }
      ],
      "source": [
        "dgm = DGM()\n",
        "dgm.display_model()"
      ]
    },
    {
      "cell_type": "code",
      "execution_count": 107,
      "metadata": {
        "id": "vsOaw3u1Ivs8",
        "outputId": "032bd7e6-e41d-49a1-a240-7213b88a1995"
      },
      "outputs": [
        {
          "name": "stdout",
          "output_type": "stream",
          "text": [
            "{'IsSummer': 0, 'HasFlu': 1, 'HasFoodPoisoning': 2, 'HasHayFever': 3, 'HasPneumonia': 4, 'HasRespiratoryProblems': 5, 'HasGastricProblems': 6, 'HasRash': 7, 'Coughs': 8, 'IsFatigued': 9, 'Vomits': 10, 'HasFever': 11}\n"
          ]
        }
      ],
      "source": [
        "print(VARIABLE_INDICES)"
      ]
    },
    {
      "cell_type": "markdown",
      "metadata": {
        "id": "ZcHDg4W-K77P"
      },
      "source": [
        "*Visualize DGM*"
      ]
    },
    {
      "cell_type": "code",
      "execution_count": 108,
      "metadata": {
        "id": "Nci76777Ivs_",
        "outputId": "3ecaf03b-fcd4-4515-b9fd-782c5af8202f"
      },
      "outputs": [
        {
          "data": {
            "image/png": "[encoded data removed]",
            "text/plain": [
              "<Figure size 640x480 with 1 Axes>"
            ]
          },
          "metadata": {},
          "output_type": "display_data"
        }
      ],
      "source": [
        "dgm = DGM()\n",
        "visualize_graph(dgm.parent_map, VARIABLES)"
      ]
    },
    {
      "cell_type": "markdown",
      "metadata": {
        "id": "7xj3__OrLBfN"
      },
      "source": [
        "# 2. Estimates Parameters"
      ]
    },
    {
      "cell_type": "code",
      "execution_count": 109,
      "metadata": {
        "id": "V6a-1RJCIvtB"
      },
      "outputs": [],
      "source": [
        "def estimate_cpts(model, data, smoothing_constant=1):\n",
        "  cpts = {}\n",
        "  for var, parents in model.parent_map.items():\n",
        "    # Initialize empty dictionary for CPT entries (combinations of parent values and child values)\n",
        "    cpt = {}\n",
        "    total_counts = {}\n",
        "    for assignment in data[\"assignment\"]:\n",
        "      # Convert assignment integer to list of booleans\n",
        "      assignment_values = [bool(int(x)) for x in format(assignment, '012b')]\n",
        "      parent_values = [assignment_values[p] for p in parents]  # Get parent values\n",
        "      child_value = assignment_values[var]  # Get child value\n",
        "      # Create a key for the CPT entry based on parent and child values\n",
        "      key = tuple(parent_values)\n",
        "      cpt[key] = cpt.get(key, {True: smoothing_constant, False: 0})\n",
        "      cpt[key][child_value] += 1  # Count occurrences of this combination\n",
        "      total_counts[key] = total_counts.get(key, 0) + 1\n",
        "\n",
        "    # Normalize counts to obtain probabilities\n",
        "    for key, counts in cpt.items():\n",
        "      cpt[key] = {k: v / total_counts[key] for k, v in counts.items()}\n",
        "    cpts[var] = cpt\n",
        "\n",
        "  return cpts\n"
      ]
    },
    {
      "cell_type": "code",
      "execution_count": 110,
      "metadata": {
        "id": "6Jsc1C0oIvtC"
      },
      "outputs": [],
      "source": [
        "model = DGM()\n",
        "data= dataset\n",
        "cpts = estimate_cpts(model, data)\n"
      ]
    },
    {
      "cell_type": "code",
      "execution_count": 111,
      "metadata": {
        "id": "oBBetoFPIvtD",
        "outputId": "e5769ef9-93f1-4727-b8a8-8d9c036334e7"
      },
      "outputs": [
        {
          "name": "stdout",
          "output_type": "stream",
          "text": [
            "{0: [], 2: [], 3: [0], 1: [8, 9], 4: [5], 5: [1, 9, 4, 0], 6: [2], 7: [2, 3], 8: [4, 1, 5], 9: [1, 4, 8], 10: [8, 11, 2, 6], 11: [0, 1, 4, 2, 10]}\n"
          ]
        }
      ],
      "source": [
        "print(model.parent_map)"
      ]
    },
    {
      "cell_type": "code",
      "execution_count": 112,
      "metadata": {},
      "outputs": [],
      "source": [
        "def visualize_cpts(model, cpts):\n",
        "  \"\"\"\n",
        "  This function visualizes the conditional probability tables (CPTs) for each variable in a tabular format.\n",
        "\n",
        "  Args:\n",
        "      model: The DGM model object.\n",
        "      cpts: The estimated conditional probability tables.\n",
        "  \"\"\"\n",
        "  from tabulate import tabulate  # Import library for creating tables\n",
        "\n",
        "  for var, parent_map in model.parent_map.items():\n",
        "    if not parent_map:  # Skip variables without parents (no CPT to visualize)\n",
        "      continue\n",
        "    parent_names = [VARIABLES[p] for p in parent_map]  # Get parent variable names\n",
        "    num_parents = len(parent_names)\n",
        "    \n",
        "    # Create a list of rows for the table\n",
        "    table_data = []\n",
        "    for parent_assignment in itertools.product([0, 1], repeat=num_parents):\n",
        "      # Convert assignment from 0/1 to True/False\n",
        "      parent_values = [bool(val) for val in parent_assignment]\n",
        "      probability_true = cpts[var][tuple(parent_values)][True]\n",
        "      probability_false = cpts[var][tuple(parent_values)][False]\n",
        "      table_data.append([*parent_values, probability_true, probability_false])  # Combine parent values and probabilities\n",
        "\n",
        "    # Create table headers\n",
        "    table_headers = [\"Parent \" + str(i+1) for i in range(num_parents)] + [\"P(True)\", \"P(False)\"]\n",
        "    \n",
        "    # Print the table using tabulate library\n",
        "    print(f\"CPT for {VARIABLES[var]}:\")\n",
        "    print(tabulate(table_data, headers=table_headers, tablefmt=\"grid\"))\n",
        "    print(\"\\n\")  # Add a newline for better readability between tables\n"
      ]
    },
    {
      "cell_type": "code",
      "execution_count": 113,
      "metadata": {},
      "outputs": [
        {
          "name": "stdout",
          "output_type": "stream",
          "text": [
            "CPT for HasHayFever:\n",
            "+------------+-----------+------------+\n",
            "| Parent 1   |   P(True) |   P(False) |\n",
            "+============+===========+============+\n",
            "| False      |  0.178165 |   0.821835 |\n",
            "+------------+-----------+------------+\n",
            "| True       |  0.35102  |   0.648985 |\n",
            "+------------+-----------+------------+\n",
            "\n",
            "\n",
            "CPT for HasFlu:\n",
            "+------------+------------+-----------+------------+\n",
            "| Parent 1   | Parent 2   |   P(True) |   P(False) |\n",
            "+============+============+===========+============+\n",
            "| False      | False      |  0.076717 |   0.923283 |\n",
            "+------------+------------+-----------+------------+\n",
            "| False      | True       |  0.281409 |   0.718594 |\n",
            "+------------+------------+-----------+------------+\n",
            "| True       | False      |  0.076461 |   0.92354  |\n",
            "+------------+------------+-----------+------------+\n",
            "| True       | True       |  0.28232  |   0.717692 |\n",
            "+------------+------------+-----------+------------+\n",
            "\n",
            "\n",
            "CPT for HasPneumonia:\n",
            "+------------+-----------+------------+\n",
            "| Parent 1   |   P(True) |   P(False) |\n",
            "+============+===========+============+\n",
            "| False      |  0.199872 |   0.800128 |\n",
            "+------------+-----------+------------+\n",
            "| True       |  0.199861 |   0.800143 |\n",
            "+------------+-----------+------------+\n",
            "\n",
            "\n",
            "CPT for HasRespiratoryProblems:\n",
            "+------------+------------+------------+------------+------------+------------+\n",
            "| Parent 1   | Parent 2   | Parent 3   | Parent 4   |    P(True) |   P(False) |\n",
            "+============+============+============+============+============+============+\n",
            "| False      | False      | False      | False      | 0.00597436 |  0.994026  |\n",
            "+------------+------------+------------+------------+------------+------------+\n",
            "| False      | False      | False      | True       | 0.0430971  |  0.956911  |\n",
            "+------------+------------+------------+------------+------------+------------+\n",
            "| False      | False      | True       | False      | 0.00590506 |  0.994097  |\n",
            "+------------+------------+------------+------------+------------+------------+\n",
            "| False      | False      | True       | True       | 0.0441408  |  0.955891  |\n",
            "+------------+------------+------------+------------+------------+------------+\n",
            "| False      | True       | False      | False      | 0.084836   |  0.915169  |\n",
            "+------------+------------+------------+------------+------------+------------+\n",
            "| False      | True       | False      | True       | 0.126046   |  0.874046  |\n",
            "+------------+------------+------------+------------+------------+------------+\n",
            "| False      | True       | True       | False      | 0.0868027  |  0.913216  |\n",
            "+------------+------------+------------+------------+------------+------------+\n",
            "| False      | True       | True       | True       | 0.121617   |  0.878744  |\n",
            "+------------+------------+------------+------------+------------+------------+\n",
            "| True       | False      | False      | False      | 0.315345   |  0.68466   |\n",
            "+------------+------------+------------+------------+------------+------------+\n",
            "| True       | False      | False      | True       | 0.769118   |  0.230918  |\n",
            "+------------+------------+------------+------------+------------+------------+\n",
            "| True       | False      | True       | False      | 0.316438   |  0.683583  |\n",
            "+------------+------------+------------+------------+------------+------------+\n",
            "| True       | False      | True       | True       | 0.762067   |  0.238081  |\n",
            "+------------+------------+------------+------------+------------+------------+\n",
            "| True       | True       | False      | False      | 0.876766   |  0.123246  |\n",
            "+------------+------------+------------+------------+------------+------------+\n",
            "| True       | True       | False      | True       | 0.912766   |  0.0874014 |\n",
            "+------------+------------+------------+------------+------------+------------+\n",
            "| True       | True       | True       | False      | 0.873535   |  0.126512  |\n",
            "+------------+------------+------------+------------+------------+------------+\n",
            "| True       | True       | True       | True       | 0.911974   |  0.0886731 |\n",
            "+------------+------------+------------+------------+------------+------------+\n",
            "\n",
            "\n",
            "CPT for HasGastricProblems:\n",
            "+------------+-----------+------------+\n",
            "| Parent 1   |   P(True) |   P(False) |\n",
            "+============+===========+============+\n",
            "| False      | 0.0605647 |   0.939436 |\n",
            "+------------+-----------+------------+\n",
            "| True       | 0.426679  |   0.573322 |\n",
            "+------------+-----------+------------+\n",
            "\n",
            "\n",
            "CPT for HasRash:\n",
            "+------------+------------+------------+------------+\n",
            "| Parent 1   | Parent 2   |    P(True) |   P(False) |\n",
            "+============+============+============+============+\n",
            "| False      | False      | 0.00308181 |   0.996919 |\n",
            "+------------+------------+------------+------------+\n",
            "| False      | True       | 0.0182203  |   0.981782 |\n",
            "+------------+------------+------------+------------+\n",
            "| True       | False      | 0.0459135  |   0.954088 |\n",
            "+------------+------------+------------+------------+\n",
            "| True       | True       | 0.132399   |   0.867605 |\n",
            "+------------+------------+------------+------------+\n",
            "\n",
            "\n",
            "CPT for Coughs:\n",
            "+------------+------------+------------+-----------+------------+\n",
            "| Parent 1   | Parent 2   | Parent 3   |   P(True) |   P(False) |\n",
            "+============+============+============+===========+============+\n",
            "| False      | False      | False      |  0.200154 |   0.799846 |\n",
            "+------------+------------+------------+-----------+------------+\n",
            "| False      | False      | True       |  0.201664 |   0.798361 |\n",
            "+------------+------------+------------+-----------+------------+\n",
            "| False      | True       | False      |  0.199884 |   0.800123 |\n",
            "+------------+------------+------------+-----------+------------+\n",
            "| False      | True       | True       |  0.200019 |   0.799988 |\n",
            "+------------+------------+------------+-----------+------------+\n",
            "| True       | False      | False      |  0.199908 |   0.800094 |\n",
            "+------------+------------+------------+-----------+------------+\n",
            "| True       | False      | True       |  0.194423 |   0.805676 |\n",
            "+------------+------------+------------+-----------+------------+\n",
            "| True       | True       | False      |  0.199417 |   0.800609 |\n",
            "+------------+------------+------------+-----------+------------+\n",
            "| True       | True       | True       |  0.200656 |   0.799369 |\n",
            "+------------+------------+------------+-----------+------------+\n",
            "\n",
            "\n",
            "CPT for IsFatigued:\n",
            "+------------+------------+------------+-----------+------------+\n",
            "| Parent 1   | Parent 2   | Parent 3   |   P(True) |   P(False) |\n",
            "+============+============+============+===========+============+\n",
            "| False      | False      | False      | 0.0796608 |   0.92034  |\n",
            "+------------+------------+------------+-----------+------------+\n",
            "| False      | False      | True       | 0.0799214 |   0.92008  |\n",
            "+------------+------------+------------+-----------+------------+\n",
            "| False      | True       | False      | 0.0794767 |   0.920525 |\n",
            "+------------+------------+------------+-----------+------------+\n",
            "| False      | True       | True       | 0.0791431 |   0.920864 |\n",
            "+------------+------------+------------+-----------+------------+\n",
            "| True       | False      | False      | 0.289195  |   0.710809 |\n",
            "+------------+------------+------------+-----------+------------+\n",
            "| True       | False      | True       | 0.291762  |   0.708254 |\n",
            "+------------+------------+------------+-----------+------------+\n",
            "| True       | True       | False      | 0.291433  |   0.708584 |\n",
            "+------------+------------+------------+-----------+------------+\n",
            "| True       | True       | True       | 0.291565  |   0.7085   |\n",
            "+------------+------------+------------+-----------+------------+\n",
            "\n",
            "\n",
            "CPT for Vomits:\n",
            "+------------+------------+------------+------------+------------+------------+\n",
            "| Parent 1   | Parent 2   | Parent 3   | Parent 4   |    P(True) |   P(False) |\n",
            "+============+============+============+============+============+============+\n",
            "| False      | False      | False      | False      | 0.0310233  |   0.968977 |\n",
            "+------------+------------+------------+------------+------------+------------+\n",
            "| False      | False      | False      | True       | 0.567018   |   0.433013 |\n",
            "+------------+------------+------------+------------+------------+------------+\n",
            "| False      | False      | True       | False      | 0.0308307  |   0.969173 |\n",
            "+------------+------------+------------+------------+------------+------------+\n",
            "| False      | False      | True       | True       | 0.413644   |   0.586369 |\n",
            "+------------+------------+------------+------------+------------+------------+\n",
            "| False      | True       | False      | False      | 0.0061482  |   0.993853 |\n",
            "+------------+------------+------------+------------+------------+------------+\n",
            "| False      | True       | False      | True       | 0.202416   |   0.797747 |\n",
            "+------------+------------+------------+------------+------------+------------+\n",
            "| False      | True       | True       | False      | 0.0061288  |   0.993881 |\n",
            "+------------+------------+------------+------------+------------+------------+\n",
            "| False      | True       | True       | True       | 0.126383   |   0.873677 |\n",
            "+------------+------------+------------+------------+------------+------------+\n",
            "| True       | False      | False      | False      | 0.0401146  |   0.959889 |\n",
            "+------------+------------+------------+------------+------------+------------+\n",
            "| True       | False      | False      | True       | 0.0595106  |   0.940498 |\n",
            "+------------+------------+------------+------------+------------+------------+\n",
            "| True       | False      | True       | False      | 0.0404076  |   0.959618 |\n",
            "+------------+------------+------------+------------+------------+------------+\n",
            "| True       | False      | True       | True       | 0.058919   |   0.941086 |\n",
            "+------------+------------+------------+------------+------------+------------+\n",
            "| True       | True       | False      | False      | 0.00751994 |   0.992492 |\n",
            "+------------+------------+------------+------------+------------+------------+\n",
            "| True       | True       | False      | True       | 0.0123171  |   0.987709 |\n",
            "+------------+------------+------------+------------+------------+------------+\n",
            "| True       | True       | True       | False      | 0.00752794 |   0.992548 |\n",
            "+------------+------------+------------+------------+------------+------------+\n",
            "| True       | True       | True       | True       | 0.0118695  |   0.988146 |\n",
            "+------------+------------+------------+------------+------------+------------+\n",
            "\n",
            "\n",
            "CPT for HasFever:\n",
            "+------------+------------+------------+------------+------------+-----------+------------+\n",
            "| Parent 1   | Parent 2   | Parent 3   | Parent 4   | Parent 5   |   P(True) |   P(False) |\n",
            "+============+============+============+============+============+===========+============+\n",
            "| False      | False      | False      | False      | False      | 0.257758  |   0.742243 |\n",
            "+------------+------------+------------+------------+------------+-----------+------------+\n",
            "| False      | False      | False      | False      | True       | 0.0631848 |   0.936848 |\n",
            "+------------+------------+------------+------------+------------+-----------+------------+\n",
            "| False      | False      | False      | True       | False      | 0.257276  |   0.742727 |\n",
            "+------------+------------+------------+------------+------------+-----------+------------+\n",
            "| False      | False      | False      | True       | True       | 0.0598256 |   0.940242 |\n",
            "+------------+------------+------------+------------+------------+-----------+------------+\n",
            "| False      | False      | True       | False      | False      | 0.257676  |   0.742325 |\n",
            "+------------+------------+------------+------------+------------+-----------+------------+\n",
            "| False      | False      | True       | False      | True       | 0.0604131 |   0.939717 |\n",
            "+------------+------------+------------+------------+------------+-----------+------------+\n",
            "| False      | False      | True       | True       | False      | 0.257912  |   0.742097 |\n",
            "+------------+------------+------------+------------+------------+-----------+------------+\n",
            "| False      | False      | True       | True       | True       | 0.0645597 |   0.93571  |\n",
            "+------------+------------+------------+------------+------------+-----------+------------+\n",
            "| False      | True       | False      | False      | False      | 0.257265  |   0.742742 |\n",
            "+------------+------------+------------+------------+------------+-----------+------------+\n",
            "| False      | True       | False      | False      | True       | 0.0650737 |   0.935435 |\n",
            "+------------+------------+------------+------------+------------+-----------+------------+\n",
            "| False      | True       | False      | True       | False      | 0.258519  |   0.741489 |\n",
            "+------------+------------+------------+------------+------------+-----------+------------+\n",
            "| False      | True       | False      | True       | True       | 0.0633655 |   0.937054 |\n",
            "+------------+------------+------------+------------+------------+-----------+------------+\n",
            "| False      | True       | True       | False      | False      | 0.258388  |   0.741639 |\n",
            "+------------+------------+------------+------------+------------+-----------+------------+\n",
            "| False      | True       | True       | False      | True       | 0.0680934 |   0.933852 |\n",
            "+------------+------------+------------+------------+------------+-----------+------------+\n",
            "| False      | True       | True       | True       | False      | 0.258089  |   0.741943 |\n",
            "+------------+------------+------------+------------+------------+-----------+------------+\n",
            "| False      | True       | True       | True       | True       | 0.076087  |   0.925466 |\n",
            "+------------+------------+------------+------------+------------+-----------+------------+\n",
            "| True       | False      | False      | False      | False      | 0.257648  |   0.742372 |\n",
            "+------------+------------+------------+------------+------------+-----------+------------+\n",
            "| True       | False      | False      | False      | True       | 0.0624732 |   0.937548 |\n",
            "+------------+------------+------------+------------+------------+-----------+------------+\n",
            "| True       | False      | False      | True       | False      | 0.25758   |   0.742482 |\n",
            "+------------+------------+------------+------------+------------+-----------+------------+\n",
            "| True       | False      | False      | True       | True       | 0.0655881 |   0.934456 |\n",
            "+------------+------------+------------+------------+------------+-----------+------------+\n",
            "| True       | False      | True       | False      | False      | 0.252634  |   0.747446 |\n",
            "+------------+------------+------------+------------+------------+-----------+------------+\n",
            "| True       | False      | True       | False      | True       | 0.0617973 |   0.938287 |\n",
            "+------------+------------+------------+------------+------------+-----------+------------+\n",
            "| True       | False      | True       | True       | False      | 0.250185  |   0.750062 |\n",
            "+------------+------------+------------+------------+------------+-----------+------------+\n",
            "| True       | False      | True       | True       | True       | 0.0672    |   0.932978 |\n",
            "+------------+------------+------------+------------+------------+-----------+------------+\n",
            "| True       | True       | False      | False      | False      | 0.258158  |   0.742013 |\n",
            "+------------+------------+------------+------------+------------+-----------+------------+\n",
            "| True       | True       | False      | False      | True       | 0.0677861 |   0.932525 |\n",
            "+------------+------------+------------+------------+------------+-----------+------------+\n",
            "| True       | True       | False      | True       | False      | 0.260194  |   0.739858 |\n",
            "+------------+------------+------------+------------+------------+-----------+------------+\n",
            "| True       | True       | False      | True       | True       | 0.0669388 |   0.933265 |\n",
            "+------------+------------+------------+------------+------------+-----------+------------+\n",
            "| True       | True       | True       | False      | False      | 0.248222  |   0.752489 |\n",
            "+------------+------------+------------+------------+------------+-----------+------------+\n",
            "| True       | True       | True       | False      | True       | 0.0550898 |   0.946108 |\n",
            "+------------+------------+------------+------------+------------+-----------+------------+\n",
            "| True       | True       | True       | True       | False      | 0.253663  |   0.746547 |\n",
            "+------------+------------+------------+------------+------------+-----------+------------+\n",
            "| True       | True       | True       | True       | True       | 0.0675139 |   0.93328  |\n",
            "+------------+------------+------------+------------+------------+-----------+------------+\n",
            "\n",
            "\n"
          ]
        }
      ],
      "source": [
        "visualize_cpts(model, cpts)"
      ]
    },
    {
      "cell_type": "code",
      "execution_count": 114,
      "metadata": {
        "id": "yATaNpZbIvtE",
        "outputId": "45e5785b-f30e-439b-f191-e2fb1fb33131"
      },
      "outputs": [
        {
          "name": "stdout",
          "output_type": "stream",
          "text": [
            "{   0: {(): {False: 0.9471925, True: 0.05280775}},\n",
            "    1: {   (False, False): {   False: 0.9232833916582366,\n",
            "                               True: 0.07671695561716221},\n",
            "           (False, True): {False: 0.7185940795126142, True: 0.2814090447551355},\n",
            "           (True, False): {   False: 0.9235403505019769,\n",
            "                              True: 0.07646103828468183},\n",
            "           (True, True): {False: 0.7176920299328876, True: 0.2823204213514624}},\n",
            "    2: {(): {False: 0.7984275, True: 0.20157275}},\n",
            "    3: {   (False,): {False: 0.8218350546483424, True: 0.17816520928955834},\n",
            "           (True,): {False: 0.6489845192444255, True: 0.35102021493159113}},\n",
            "    4: {   (False,): {False: 0.8001278096783145, True: 0.19987245714773624},\n",
            "           (True,): {False: 0.8001427212178878, True: 0.19986124326038693}},\n",
            "    5: {   (False, False, False, False): {   False: 0.9940260368515399,\n",
            "                                             True: 0.005974357729909787},\n",
            "           (False, False, False, True): {   False: 0.9569109209218836,\n",
            "                                            True: 0.043097092669166906},\n",
            "           (False, False, True, False): {   False: 0.9940965177507085,\n",
            "                                            True: 0.00590506114264512},\n",
            "           (False, False, True, True): {   False: 0.9558913162031245,\n",
            "                                           True: 0.04414076283963687},\n",
            "           (False, True, False, False): {   False: 0.9151685828468833,\n",
            "                                            True: 0.08483597406207422},\n",
            "           (False, True, False, True): {   False: 0.8740461524317367,\n",
            "                                           True: 0.12604578468327665},\n",
            "           (False, True, True, False): {   False: 0.9132156409833361,\n",
            "                                           True: 0.08680269115840804},\n",
            "           (False, True, True, True): {   False: 0.8787441356910862,\n",
            "                                          True: 0.12161674485745218},\n",
            "           (True, False, False, False): {   False: 0.684659971483479,\n",
            "                                            True: 0.3153451945529312},\n",
            "           (True, False, False, True): {   False: 0.23091812139361625,\n",
            "                                           True: 0.7691183989482142},\n",
            "           (True, False, True, False): {   False: 0.6835825841998425,\n",
            "                                           True: 0.3164381291685654},\n",
            "           (True, False, True, True): {   False: 0.23808109312342196,\n",
            "                                          True: 0.7620674290806475},\n",
            "           (True, True, False, False): {   False: 0.12324583813586511,\n",
            "                                           True: 0.8767660444169826},\n",
            "           (True, True, False, True): {   False: 0.08740144271095454,\n",
            "                                          True: 0.9127663143767825},\n",
            "           (True, True, True, False): {   False: 0.12651202504625017,\n",
            "                                          True: 0.8735354110336322},\n",
            "           (True, True, True, True): {   False: 0.08867313915857605,\n",
            "                                         True: 0.9119741100323625}},\n",
            "    6: {   (False,): {False: 0.939435640681214, True: 0.06056467243425358},\n",
            "           (True,): {False: 0.5733222537796574, True: 0.42667898646888835}},\n",
            "    7: {   (False, False): {   False: 0.9969185556429905,\n",
            "                               True: 0.0030818081638993695},\n",
            "           (False, True): {   False: 0.9817819815325428,\n",
            "                              True: 0.018220265663518344},\n",
            "           (True, False): {   False: 0.9540884811936636,\n",
            "                              True: 0.04591351037007237},\n",
            "           (True, True): {   False: 0.8676045132359324,\n",
            "                             True: 0.13239877437765474}},\n",
            "    8: {   (False, False, False): {   False: 0.7998462586084649,\n",
            "                                      True: 0.20015409239927834},\n",
            "           (False, False, True): {   False: 0.7983606152630669,\n",
            "                                     True: 0.20166407426610375},\n",
            "           (False, True, False): {   False: 0.8001228739140016,\n",
            "                                     True: 0.19988380401610717},\n",
            "           (False, True, True): {   False: 0.7999876026654269,\n",
            "                                    True: 0.2000185960018596},\n",
            "           (True, False, False): {   False: 0.8000938645203355,\n",
            "                                     True: 0.1999075406371546},\n",
            "           (True, False, True): {   False: 0.805675569520817,\n",
            "                                    True: 0.19442262372348781},\n",
            "           (True, True, False): {   False: 0.8006094790023791,\n",
            "                                    True: 0.19941725253281295},\n",
            "           (True, True, True): {   False: 0.799368598985781,\n",
            "                                   True: 0.20065625932186537}},\n",
            "    9: {   (False, False, False): {   False: 0.9203396724432618,\n",
            "                                      True: 0.07966076026048766},\n",
            "           (False, False, True): {   False: 0.9200802914281466,\n",
            "                                     True: 0.07992143750010806},\n",
            "           (False, True, False): {   False: 0.9205249972732136,\n",
            "                                     True: 0.07947673401973328},\n",
            "           (False, True, True): {   False: 0.920863808104267,\n",
            "                                    True: 0.0791431245450449},\n",
            "           (True, False, False): {   False: 0.7108094859246045,\n",
            "                                     True: 0.28919453217290675},\n",
            "           (True, False, True): {   False: 0.7082542847036882,\n",
            "                                    True: 0.2917617929836972},\n",
            "           (True, True, False): {   False: 0.7085835735102324,\n",
            "                                    True: 0.2914325277343939},\n",
            "           (True, True, True): {   False: 0.7084996780424984,\n",
            "                                   True: 0.2915647134578236}},\n",
            "    10: {   (False, False, False, False): {   False: 0.9689771745016963,\n",
            "                                              True: 0.031023328340114155},\n",
            "            (False, False, False, True): {   False: 0.43301281066633895,\n",
            "                                             True: 0.5670179103560566},\n",
            "            (False, False, True, False): {   False: 0.9691725592358268,\n",
            "                                             True: 0.03083070534542534},\n",
            "            (False, False, True, True): {   False: 0.5863692181743758,\n",
            "                                            True: 0.4136444262518761},\n",
            "            (False, True, False, False): {   False: 0.993853287962974,\n",
            "                                             True: 0.0061481992647146304},\n",
            "            (False, True, False, True): {   False: 0.797747306562194,\n",
            "                                            True: 0.20241593209271955},\n",
            "            (False, True, True, False): {   False: 0.9938808653790383,\n",
            "                                            True: 0.006128801500299673},\n",
            "            (False, True, True, True): {   False: 0.8736766979897704,\n",
            "                                           True: 0.12638277625788033},\n",
            "            (True, False, False, False): {   False: 0.9598893553885978,\n",
            "                                             True: 0.04011459056758634},\n",
            "            (True, False, False, True): {   False: 0.9404980002580312,\n",
            "                                            True: 0.059510600782694704},\n",
            "            (True, False, True, False): {   False: 0.9596177793590689,\n",
            "                                            True: 0.04040763424737605},\n",
            "            (True, False, True, True): {   False: 0.9410862968679455,\n",
            "                                           True: 0.058918952971934356},\n",
            "            (True, True, False, False): {   False: 0.9924917222403582,\n",
            "                                            True: 0.0075199365760388005},\n",
            "            (True, True, False, True): {   False: 0.987708858456981,\n",
            "                                           True: 0.012317127043109945},\n",
            "            (True, True, True, False): {   False: 0.9925480952018858,\n",
            "                                           True: 0.007527944642992928},\n",
            "            (True, True, True, True): {   False: 0.9881462799495586,\n",
            "                                          True: 0.011869482976040353}},\n",
            "    11: {   (False, False, False, False, False): {   False: 0.7422427021783226,\n",
            "                                                     True: 0.25775773877767},\n",
            "            (False, False, False, False, True): {   False: 0.936847548560163,\n",
            "                                                    True: 0.06318477101580428},\n",
            "            (False, False, False, True, False): {   False: 0.7427267606145683,\n",
            "                                                    True: 0.2572755108530724},\n",
            "            (False, False, False, True, True): {   False: 0.9402420063543568,\n",
            "                                                   True: 0.059825593185966336},\n",
            "            (False, False, True, False, False): {   False: 0.7423254600670117,\n",
            "                                                    True: 0.2576763024730199},\n",
            "            (False, False, True, False, True): {   False: 0.9397167727686111,\n",
            "                                                   True: 0.060413147979732365},\n",
            "            (False, False, True, True, False): {   False: 0.7420974510271023,\n",
            "                                                   True: 0.2579117113485184},\n",
            "            (False, False, True, True, True): {   False: 0.9357104267963263,\n",
            "                                                  True: 0.06455969746083198},\n",
            "            (False, True, False, False, False): {   False: 0.7427415869929239,\n",
            "                                                    True: 0.25726516501917573},\n",
            "            (False, True, False, False, True): {   False: 0.9354346720894764,\n",
            "                                                   True: 0.06507371631926792},\n",
            "            (False, True, False, True, False): {   False: 0.741488724805428,\n",
            "                                                   True: 0.25851925763320693},\n",
            "            (False, True, False, True, True): {   False: 0.9370541334452371,\n",
            "                                                  True: 0.06336550566512798},\n",
            "            (False, True, True, False, False): {   False: 0.7416392025501107,\n",
            "                                                   True: 0.2583878113350262},\n",
            "            (False, True, True, False, True): {   False: 0.933852140077821,\n",
            "                                                  True: 0.06809338521400778},\n",
            "            (False, True, True, True, False): {   False: 0.7419427252028349,\n",
            "                                                  True: 0.25808934355257673},\n",
            "            (False, True, True, True, True): {   False: 0.9254658385093167,\n",
            "                                                 True: 0.07608695652173914},\n",
            "            (True, False, False, False, False): {   False: 0.742371525694861,\n",
            "                                                    True: 0.2576484703059388},\n",
            "            (True, False, False, False, True): {   False: 0.9375481551237052,\n",
            "                                                   True: 0.062473247153497134},\n",
            "            (True, False, False, True, False): {   False: 0.7424817881825541,\n",
            "                                                   True: 0.257580474441193},\n",
            "            (True, False, False, True, True): {   False: 0.9344556187144731,\n",
            "                                                  True: 0.06558810668998688},\n",
            "            (True, False, True, False, False): {   False: 0.7474463122335719,\n",
            "                                                   True: 0.2526341188771817},\n",
            "            (True, False, True, False, True): {   False: 0.9382872601234254,\n",
            "                                                  True: 0.061797277876405446},\n",
            "            (True, False, True, True, False): {   False: 0.7500616218880947,\n",
            "                                                  True: 0.25018486566428394},\n",
            "            (True, False, True, True, True): {   False: 0.9329777777777778,\n",
            "                                                 True: 0.0672},\n",
            "            (True, True, False, False, False): {   False: 0.7420126430890142,\n",
            "                                                   True: 0.2581582094652315},\n",
            "            (True, True, False, False, True): {   False: 0.9325248756218906,\n",
            "                                                  True: 0.06778606965174129},\n",
            "            (True, True, False, True, False): {   False: 0.739857541034376,\n",
            "                                                  True: 0.2601940745328791},\n",
            "            (True, True, False, True, True): {   False: 0.933265306122449,\n",
            "                                                 True: 0.06693877551020408},\n",
            "            (True, True, True, False, False): {   False: 0.7524893314366998,\n",
            "                                                  True: 0.24822190611664297},\n",
            "            (True, True, True, False, True): {   False: 0.9461077844311377,\n",
            "                                                 True: 0.055089820359281436},\n",
            "            (True, True, True, True, False): {   False: 0.7465466722478025,\n",
            "                                                 True: 0.25366262034323983},\n",
            "            (True, True, True, True, True): {   False: 0.9332803812549643,\n",
            "                                                True: 0.06751389992057188}}}\n"
          ]
        }
      ],
      "source": [
        "pp = pprint.PrettyPrinter(indent=4)\n",
        "pp.pprint(cpts)"
      ]
    },
    {
      "cell_type": "code",
      "execution_count": 115,
      "metadata": {
        "id": "vLWn59bgIvtH"
      },
      "outputs": [],
      "source": [
        "# Validate the size of each CPT\n",
        "for var, parents in model.parent_map.items():\n",
        "    expected_size = 2 ** len(parents)\n",
        "    actual_size = len(cpts[var])\n",
        "    assert actual_size == expected_size, f\"CPT for variable {var} has size {actual_size}, but expected size is {expected_size}\"\n"
      ]
    },
    {
      "cell_type": "code",
      "execution_count": 116,
      "metadata": {
        "id": "MS7uIU4gIvtI",
        "outputId": "45518cfe-58ed-4018-dc90-30adcc501de6"
      },
      "outputs": [
        {
          "name": "stdout",
          "output_type": "stream",
          "text": [
            "{(False, True, False, False): {True: 0.0061481992647146304, False: 0.993853287962974}, (True, False, False, False): {True: 0.04011459056758634, False: 0.9598893553885978}, (False, False, False, False): {True: 0.031023328340114155, False: 0.9689771745016963}, (False, False, True, False): {True: 0.03083070534542534, False: 0.9691725592358268}, (True, True, False, False): {True: 0.0075199365760388005, False: 0.9924917222403582}, (True, True, True, True): {True: 0.011869482976040353, False: 0.9881462799495586}, (True, False, False, True): {True: 0.059510600782694704, False: 0.9404980002580312}, (False, False, True, True): {True: 0.4136444262518761, False: 0.5863692181743758}, (True, False, True, True): {True: 0.058918952971934356, False: 0.9410862968679455}, (False, False, False, True): {True: 0.5670179103560566, False: 0.43301281066633895}, (False, True, True, False): {True: 0.006128801500299673, False: 0.9938808653790383}, (True, True, False, True): {True: 0.012317127043109945, False: 0.987708858456981}, (False, True, True, True): {True: 0.12638277625788033, False: 0.8736766979897704}, (True, True, True, False): {True: 0.007527944642992928, False: 0.9925480952018858}, (True, False, True, False): {True: 0.04040763424737605, False: 0.9596177793590689}, (False, True, False, True): {True: 0.20241593209271955, False: 0.797747306562194}}\n"
          ]
        }
      ],
      "source": [
        "print(cpts[VARIABLE_INDICES[\"Vomits\"]])\n"
      ]
    },
    {
      "cell_type": "markdown",
      "metadata": {
        "id": "vMb2xoBFMle8"
      },
      "source": [
        "# 3. Model Accuracy"
      ]
    },
    {
      "cell_type": "markdown",
      "metadata": {
        "id": "T_zjI9ayLX3s"
      },
      "source": [
        "*Read joint probabilities from a true_joint_data*"
      ]
    },
    {
      "cell_type": "code",
      "execution_count": 117,
      "metadata": {
        "id": "OKb6KlU1IvtI"
      },
      "outputs": [],
      "source": [
        "def read_joint_distribution(file_path):\n",
        "    with open(file_path, 'r') as file:\n",
        "        lines = file.readlines()\n",
        "    # Extract the probabilities from each line\n",
        "    probabilities = [float(line.split()[1]) for line in lines]\n",
        "    return probabilities\n",
        "\n",
        "# Use the function to read the joint distribution\n",
        "true_joint_distribution = true_joint_data['probability'].values\n"
      ]
    },
    {
      "cell_type": "markdown",
      "metadata": {
        "id": "fljHO_NNNUhy"
      },
      "source": [
        "*Compute the joint probability distribution for all possible variable value combinations in the DGM*"
      ]
    },
    {
      "cell_type": "code",
      "execution_count": 118,
      "metadata": {
        "id": "6phzTZn4IvtJ"
      },
      "outputs": [],
      "source": [
        "def compute_joint_distribution(model, cpts):\n",
        "    # Get the number of variables\n",
        "    num_variables = len(cpts)\n",
        "\n",
        "    # Initialize the joint distribution\n",
        "    joint_distribution = []\n",
        "\n",
        "    # Iterate over all possible assignments (each represented as a binary vector)\n",
        "    for assignment in itertools.product([False, True], repeat=num_variables):\n",
        "        # Compute the probability of this assignment\n",
        "        prob = 1.0\n",
        "        for var, parents in model.parent_map.items():\n",
        "            parent_values = tuple(assignment[p] for p in parents)\n",
        "            prob *= cpts[var][parent_values][assignment[var]]\n",
        "        joint_distribution.append(prob)\n",
        "\n",
        "    return joint_distribution"
      ]
    },
    {
      "cell_type": "code",
      "execution_count": 119,
      "metadata": {
        "id": "oEA5ENzNIvtK"
      },
      "outputs": [],
      "source": [
        "estimated_joint_distribution = compute_joint_distribution(model, cpts)"
      ]
    },
    {
      "cell_type": "markdown",
      "metadata": {
        "id": "G0wHHbN4Nel3"
      },
      "source": [
        "*Compare the distributions based on their L1-distance*"
      ]
    },
    {
      "cell_type": "code",
      "execution_count": 120,
      "metadata": {
        "id": "MNt3RYV5IvtK",
        "outputId": "4e891ae7-f4da-4554-d9ca-587339886237"
      },
      "outputs": [
        {
          "name": "stdout",
          "output_type": "stream",
          "text": [
            "L1 distance: 0.588200201147437\n"
          ]
        }
      ],
      "source": [
        "def l1_distance(p, q):\n",
        "    return sum(abs(p[i] - q[i]) for i in range(len(p)))\n",
        "\n",
        "# Compute the L1 distance between the true and estimated distributions\n",
        "l1_dist = l1_distance(true_joint_distribution, estimated_joint_distribution)\n",
        "print(\"L1 distance:\", l1_dist)\n"
      ]
    },
    {
      "cell_type": "markdown",
      "metadata": {
        "id": "v7QdcHjyN0gq"
      },
      "source": [
        "*KL-divergence*"
      ]
    },
    {
      "cell_type": "code",
      "execution_count": 121,
      "metadata": {
        "id": "lCLLzsUkIvtL",
        "outputId": "035813a0-b1a3-42d5-a23c-252ee004f84b"
      },
      "outputs": [
        {
          "name": "stdout",
          "output_type": "stream",
          "text": [
            "KL divergence: 0.4066314923517004\n"
          ]
        }
      ],
      "source": [
        "def kl_divergence(p, q):\n",
        "    return np.sum(np.where(p != 0, p * np.log(p / q), 0))\n",
        "\n",
        "# Compute the KL divergence from the true to the estimated distribution\n",
        "kl_div = kl_divergence(true_joint_distribution, estimated_joint_distribution)\n",
        "print(\"KL divergence:\", kl_div)\n"
      ]
    },
    {
      "cell_type": "markdown",
      "metadata": {
        "id": "i_clCgVLN-Jt"
      },
      "source": [
        "Distribution Of Error Visualization"
      ]
    },
    {
      "cell_type": "code",
      "execution_count": 122,
      "metadata": {
        "id": "4LqSeRhNIvtM",
        "outputId": "56d5bca8-9563-463a-b978-2d61d02c9f74"
      },
      "outputs": [
        {
          "data": {
            "image/png": "[encoded data removed]",
            "text/plain": [
              "<Figure size 640x480 with 1 Axes>"
            ]
          },
          "metadata": {},
          "output_type": "display_data"
        }
      ],
      "source": [
        "# Compute the errors\n",
        "errors = [true_p - estimated_p for true_p, estimated_p in zip(true_joint_distribution, estimated_joint_distribution)]\n",
        "\n",
        "# Analyze the distribution of errors\n",
        "import matplotlib.pyplot as plt\n",
        "plt.hist(errors, bins=50)\n",
        "plt.title('Distribution of Errors')\n",
        "plt.xlabel('Error')\n",
        "plt.ylabel('Frequency')\n",
        "plt.show()\n"
      ]
    },
    {
      "cell_type": "markdown",
      "metadata": {
        "id": "HBe5mU4eOG0U"
      },
      "source": [
        "L1 Distance on Split data"
      ]
    },
    {
      "cell_type": "code",
      "execution_count": 123,
      "metadata": {
        "id": "NIxsExF7IvtN",
        "outputId": "d5bde162-4c1f-410d-94e8-8876b2f89a27"
      },
      "outputs": [
        {
          "name": "stdout",
          "output_type": "stream",
          "text": [
            "L1 distance for subset 1: 0.5888658066746559\n",
            "L1 distance for subset 2: 0.5875860210431405\n",
            "KL divergence: 0.4066314923517004\n",
            "KL divergence: 0.4066314923517004\n"
          ]
        }
      ],
      "source": [
        "# Split the data into subsets\n",
        "subset1 = dataset[:len(dataset)//2]\n",
        "subset2 = dataset[len(dataset)//2:]\n",
        "\n",
        "# Estimate CPTs for each subset\n",
        "cpts1 = estimate_cpts(model, subset1)\n",
        "cpts2 = estimate_cpts(model, subset2)\n",
        "\n",
        "# Compute joint distributions for each subset\n",
        "estimated_joint_distribution1 = compute_joint_distribution(model, cpts1)\n",
        "estimated_joint_distribution2 = compute_joint_distribution(model, cpts2)\n",
        "\n",
        "# Compute L1 distance or KL divergence for each subset\n",
        "l1_dist1 = l1_distance(true_joint_distribution, estimated_joint_distribution1)\n",
        "l1_dist2 = l1_distance(true_joint_distribution, estimated_joint_distribution2)\n",
        "kl_div1 = kl_divergence(true_joint_distribution, estimated_joint_distribution)\n",
        "kl_div2 = kl_divergence(true_joint_distribution, estimated_joint_distribution)\n",
        "print(\"L1 distance for subset 1:\", l1_dist1)\n",
        "print(\"L1 distance for subset 2:\", l1_dist2)\n",
        "print(\"KL divergence:\", kl_div1)\n",
        "print(\"KL divergence:\", kl_div2)"
      ]
    },
    {
      "cell_type": "markdown",
      "metadata": {
        "id": "QobPtajoOl7G"
      },
      "source": [
        "*Plot True Vs Estimated Probabilities for HasFlu*"
      ]
    },
    {
      "cell_type": "code",
      "execution_count": 124,
      "metadata": {
        "id": "12WhCTuIIvtP",
        "outputId": "18904f88-6117-4c5a-a96f-222209f5cf2b"
      },
      "outputs": [
        {
          "name": "stdout",
          "output_type": "stream",
          "text": [
            "true_probs= [0.29425875824822]\n",
            "estimated_probs= [0.22630356949906735]\n"
          ]
        },
        {
          "data": {
            "image/png": "[encoded data removed]",
            "text/plain": [
              "<Figure size 640x480 with 1 Axes>"
            ]
          },
          "metadata": {},
          "output_type": "display_data"
        }
      ],
      "source": [
        "# Choose a specific variable\n",
        "var = VARIABLE_INDICES[\"HasFlu\"]\n",
        "\n",
        "# Get the true and estimated probabilities for this variable\n",
        "true_probs = [p for assignment, p in zip(dataset, true_joint_distribution) if assignment[var]]\n",
        "estimated_probs = [p for assignment, p in zip(dataset, estimated_joint_distribution) if assignment[var]]\n",
        "print(\"true_probs=\",true_probs)\n",
        "print(\"estimated_probs=\",estimated_probs)\n",
        "# Plot the true vs. estimated probabilities\n",
        "plt.scatter(true_probs, estimated_probs)\n",
        "plt.title('True vs. Estimated Probabilities for \"HasFlu\"')\n",
        "plt.xlabel('True Probability')\n",
        "plt.ylabel('Estimated Probability')\n",
        "plt.show()\n"
      ]
    },
    {
      "cell_type": "markdown",
      "metadata": {
        "id": "K0jZp3aAOzm1"
      },
      "source": [
        "Plot True Vs Estimated Probabilities"
      ]
    },
    {
      "cell_type": "code",
      "execution_count": 125,
      "metadata": {
        "id": "YLoLMkRzIvtP",
        "outputId": "2c85205f-bfd2-486b-a38f-836d3c2881c6"
      },
      "outputs": [
        {
          "data": {
            "image/png": "[encoded data removed]",
            "text/plain": [
              "<Figure size 640x480 with 1 Axes>"
            ]
          },
          "metadata": {},
          "output_type": "display_data"
        }
      ],
      "source": [
        "plt.scatter(true_joint_distribution, estimated_joint_distribution)\n",
        "plt.xlabel('True Probabilities')\n",
        "plt.ylabel('Estimated Probabilities')\n",
        "plt.title('True vs Estimated Probabilities')\n",
        "plt.show()"
      ]
    },
    {
      "cell_type": "markdown",
      "metadata": {
        "id": "I3KTiqEIPCeo"
      },
      "source": [
        "# 4. Querying"
      ]
    },
    {
      "cell_type": "code",
      "execution_count": 126,
      "metadata": {
        "id": "kf_WHNNxIvtQ"
      },
      "outputs": [],
      "source": [
        "def query(model, cpts, observed_variables, query_variables):\n",
        "    # Get the number of variables\n",
        "    num_variables = len(cpts)\n",
        "\n",
        "    # Initialize the probabilities for the query variables\n",
        "    query_probs = {var: {True: 0, False: 0} for var in query_variables}\n",
        "\n",
        "    # Iterate over all possible assignments (each represented as a binary vector)\n",
        "    for assignment in itertools.product([False, True], repeat=num_variables):\n",
        "        # Check if this assignment is consistent with the observed variables\n",
        "        if all(assignment[var] == value for var, value in observed_variables.items()):\n",
        "            # Compute the probability of this assignment\n",
        "            prob = 1.0\n",
        "            for var, parents in model.parent_map.items():\n",
        "                parent_values = tuple(assignment[p] for p in parents)\n",
        "                prob *= cpts[var][parent_values][assignment[var]]\n",
        "            # Add this probability to the probabilities for the query variables\n",
        "            for var in query_variables:\n",
        "                query_probs[var][assignment[var]] += prob\n",
        "\n",
        "    # Normalize the probabilities for the query variables\n",
        "    for var in query_variables:\n",
        "        total_prob = sum(query_probs[var].values())\n",
        "        query_probs[var] = {value: prob / total_prob for value, prob in query_probs[var].items()}\n",
        "\n",
        "    return query_probs\n"
      ]
    },
    {
      "cell_type": "markdown",
      "metadata": {
        "id": "615edgq9PPge"
      },
      "source": [
        "* What is the probability a patient has flu given they are coughing and have a high fever?"
      ]
    },
    {
      "cell_type": "code",
      "execution_count": 127,
      "metadata": {
        "id": "d3AFxzXhIvtR",
        "outputId": "66e7618e-3629-4a3e-8a95-f24f79a6297d"
      },
      "outputs": [
        {
          "name": "stdout",
          "output_type": "stream",
          "text": [
            "P(HasFlu | HasFever=True, Coughs=True) = {True: 0.13078502279396564, False: 0.8692149772060344}\n"
          ]
        }
      ],
      "source": [
        "observed_variables = {VARIABLE_INDICES[\"HasFever\"]: True, VARIABLE_INDICES[\"Coughs\"]: True}\n",
        "query_variables = [VARIABLE_INDICES[\"HasFlu\"]]\n",
        "result = query(model, cpts, observed_variables, query_variables)\n",
        "print(\"P(HasFlu | HasFever=True, Coughs=True) =\", result[VARIABLE_INDICES[\"HasFlu\"]])"
      ]
    },
    {
      "cell_type": "markdown",
      "metadata": {
        "id": "tC0bWrAgPWIU"
      },
      "source": [
        "* What is the probability distribution over the symptoms given the patient has pneumonia?"
      ]
    },
    {
      "cell_type": "code",
      "execution_count": 128,
      "metadata": {
        "id": "zZUYmZkLIvtT"
      },
      "outputs": [
        {
          "name": "stdout",
          "output_type": "stream",
          "text": [
            "P(HasRash | HasPneumonia=True) = {True: 0.01736998933049112, False: 0.982630010669509}\n",
            "P(Coughs | HasPneumonia=True) = {True: 0.19904630917854751, False: 0.8009536908214524}\n",
            "P(IsFatigued | HasPneumonia=True) = {True: 0.13331418529029546, False: 0.8666858147097045}\n",
            "P(Vomits | HasPneumonia=True) = {True: 0.07590579959184705, False: 0.9240942004081529}\n",
            "P(HasFever | HasPneumonia=True) = {True: 0.2503073009932809, False: 0.7496926990067191}\n"
          ]
        }
      ],
      "source": [
        "# Define the observed variable\n",
        "observed_variables = {VARIABLE_INDICES[\"HasPneumonia\"]: True}\n",
        "\n",
        "# Define the query variables\n",
        "query_variables = [VARIABLE_INDICES[\"HasRash\"], VARIABLE_INDICES[\"Coughs\"], VARIABLE_INDICES[\"IsFatigued\"], VARIABLE_INDICES[\"Vomits\"], VARIABLE_INDICES[\"HasFever\"]]\n",
        "\n",
        "# Perform the query\n",
        "result = query(model, cpts, observed_variables, query_variables)\n",
        "\n",
        "# Print the results\n",
        "for var in query_variables:\n",
        "    print(f\"P({VARIABLES[var]} | HasPneumonia=True) = {result[var]}\")\n"
      ]
    },
    {
      "cell_type": "markdown",
      "metadata": {
        "id": "1p-TAk19PkjW"
      },
      "source": [
        "* What is the probability of vomiting in summer?"
      ]
    },
    {
      "cell_type": "code",
      "execution_count": 129,
      "metadata": {
        "id": "wOO3yMSFIvtU",
        "outputId": "accb750d-dcdb-4ab5-a77b-2576f679509b"
      },
      "outputs": [
        {
          "name": "stdout",
          "output_type": "stream",
          "text": [
            "P(Vomits | IsSummer=True) = {True: 0.07583294550116852, False: 0.9241670544988315}\n"
          ]
        }
      ],
      "source": [
        "observed_variables = {VARIABLE_INDICES[\"IsSummer\"]: True}\n",
        "query_variables = [VARIABLE_INDICES[\"Vomits\"]]\n",
        "result = query(model, cpts, observed_variables, query_variables)\n",
        "print(\"P(Vomits | IsSummer=True) =\", result[VARIABLE_INDICES[\"Vomits\"]])\n"
      ]
    },
    {
      "cell_type": "markdown",
      "metadata": {
        "id": "nQLkKkSLPvlv"
      },
      "source": [
        "**What is the probability of Having hay fever in summer?**"
      ]
    },
    {
      "cell_type": "code",
      "execution_count": 130,
      "metadata": {
        "id": "UWrSpogQIvtW",
        "outputId": "b895496a-f8fc-41dd-efeb-76772d28b023"
      },
      "outputs": [
        {
          "name": "stdout",
          "output_type": "stream",
          "text": [
            "P(HasHayFever | IsSummer=Truee) = {True: 0.35101895492370494, False: 0.6489810450762951}\n"
          ]
        }
      ],
      "source": [
        "observed_variables = {VARIABLE_INDICES[\"IsSummer\"]: True}\n",
        "query_variables = [VARIABLE_INDICES[\"HasHayFever\"]]\n",
        "result = query(model, cpts, observed_variables, query_variables)\n",
        "print(\"P(HasHayFever | IsSummer=Truee) =\", result[VARIABLE_INDICES[\"HasHayFever\"]])"
      ]
    },
    {
      "cell_type": "code",
      "execution_count": 131,
      "metadata": {},
      "outputs": [
        {
          "name": "stdout",
          "output_type": "stream",
          "text": [
            "hayfever_cpt= {(False,): {True: 0.17816520928955834, False: 0.8218350546483424}, (True,): {True: 0.35102021493159113, False: 0.6489845192444255}}\n"
          ]
        }
      ],
      "source": [
        "hayfever_cpt = cpts[VARIABLE_INDICES[\"HasHayFever\"]]\n",
        "print(\"hayfever_cpt=\",hayfever_cpt)"
      ]
    },
    {
      "cell_type": "markdown",
      "metadata": {
        "id": "J6l7HczZP7cE"
      },
      "source": [
        "**What is the probability of having fever given variables?**\n"
      ]
    },
    {
      "cell_type": "code",
      "execution_count": 132,
      "metadata": {
        "id": "7EvGaAdNIvtY",
        "outputId": "842046c5-05c2-4910-f677-e4243cdbae8f"
      },
      "outputs": [
        {
          "name": "stdout",
          "output_type": "stream",
          "text": [
            "P(HasFever | All parent= True) = {True: 0.28627565634403596, False: 0.713724343655964}\n"
          ]
        }
      ],
      "source": [
        "observed_variables = {VARIABLE_INDICES[\"IsSummer\"]: True,VARIABLE_INDICES[\"HasFlu\"]: True, VARIABLE_INDICES[\"HasPneumonia\"]: False, VARIABLE_INDICES[\"HasRespiratoryProblems\"]: False,VARIABLE_INDICES[\"HasFoodPoisoning\"]: True,VARIABLE_INDICES[\"Vomits\"]: False,VARIABLE_INDICES[\"IsFatigued\"]: False,VARIABLE_INDICES[\"HasHayFever\"]: False}\n",
        "query_variables = [VARIABLE_INDICES[\"HasFever\"]]\n",
        "result = query(model, cpts, observed_variables, query_variables)\n",
        "print(\"P(HasFever | All parent= True) =\", result[VARIABLE_INDICES[\"HasFever\"]])"
      ]
    },
    {
      "cell_type": "code",
      "execution_count": 133,
      "metadata": {},
      "outputs": [
        {
          "name": "stdout",
          "output_type": "stream",
          "text": [
            "fever_cpt= {(False, False, False, False, False): {True: 0.25775773877767, False: 0.7422427021783226}, (False, False, True, False, False): {True: 0.2576763024730199, False: 0.7423254600670117}, (False, False, False, True, False): {True: 0.2572755108530724, False: 0.7427267606145683}, (True, False, False, False, False): {True: 0.2576484703059388, False: 0.742371525694861}, (False, True, False, True, False): {True: 0.25851925763320693, False: 0.741488724805428}, (True, False, False, True, True): {True: 0.06558810668998688, False: 0.9344556187144731}, (False, True, False, False, False): {True: 0.25726516501917573, False: 0.7427415869929239}, (False, True, True, True, False): {True: 0.25808934355257673, False: 0.7419427252028349}, (False, False, True, True, False): {True: 0.2579117113485184, False: 0.7420974510271023}, (True, False, True, False, True): {True: 0.061797277876405446, False: 0.9382872601234254}, (True, True, True, True, False): {True: 0.25366262034323983, False: 0.7465466722478025}, (True, False, False, False, True): {True: 0.062473247153497134, False: 0.9375481551237052}, (False, False, False, False, True): {True: 0.06318477101580428, False: 0.936847548560163}, (True, True, False, False, True): {True: 0.06778606965174129, False: 0.9325248756218906}, (False, True, True, False, False): {True: 0.2583878113350262, False: 0.7416392025501107}, (True, True, False, True, False): {True: 0.2601940745328791, False: 0.739857541034376}, (True, True, False, True, True): {True: 0.06693877551020408, False: 0.933265306122449}, (False, False, False, True, True): {True: 0.059825593185966336, False: 0.9402420063543568}, (True, False, True, True, True): {True: 0.0672, False: 0.9329777777777778}, (True, False, True, False, False): {True: 0.2526341188771817, False: 0.7474463122335719}, (True, False, False, True, False): {True: 0.257580474441193, False: 0.7424817881825541}, (False, False, True, True, True): {True: 0.06455969746083198, False: 0.9357104267963263}, (True, True, True, True, True): {True: 0.06751389992057188, False: 0.9332803812549643}, (False, True, False, False, True): {True: 0.06507371631926792, False: 0.9354346720894764}, (False, True, True, True, True): {True: 0.07608695652173914, False: 0.9254658385093167}, (False, False, True, False, True): {True: 0.060413147979732365, False: 0.9397167727686111}, (True, False, True, True, False): {True: 0.25018486566428394, False: 0.7500616218880947}, (True, True, True, False, False): {True: 0.24822190611664297, False: 0.7524893314366998}, (False, True, False, True, True): {True: 0.06336550566512798, False: 0.9370541334452371}, (True, True, True, False, True): {True: 0.055089820359281436, False: 0.9461077844311377}, (True, True, False, False, False): {True: 0.2581582094652315, False: 0.7420126430890142}, (False, True, True, False, True): {True: 0.06809338521400778, False: 0.933852140077821}}\n"
          ]
        }
      ],
      "source": [
        "fever_cpt = cpts[VARIABLE_INDICES[\"HasFever\"]]\n",
        "print(\"fever_cpt=\",fever_cpt)"
      ]
    }
  ],
  "metadata": {
    "colab": {
      "provenance": []
    },
    "kernelspec": {
      "display_name": "Python 3",
      "language": "python",
      "name": "python3"
    },
    "language_info": {
      "codemirror_mode": {
        "name": "ipython",
        "version": 3
      },
      "file_extension": ".py",
      "mimetype": "text/x-python",
      "name": "python",
      "nbconvert_exporter": "python",
      "pygments_lexer": "ipython3",
      "version": "3.12.0"
    }
  },
  "nbformat": 4,
  "nbformat_minor": 0
}
